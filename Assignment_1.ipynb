{
 "cells": [
  {
   "cell_type": "code",
   "execution_count": 3,
   "id": "e02a61a7-9ca8-44ea-a0d1-f6931fc8c4d9",
   "metadata": {},
   "outputs": [
    {
     "name": "stdout",
     "output_type": "stream",
     "text": [
      "<class 'str'>\n",
      "Hello world!\n",
      "<class 'list'>\n",
      "['Aditya', 'pw ', 1, 3, 5, 6]\n",
      "<class 'float'>\n",
      "123.455\n",
      "<class 'tuple'>\n",
      "(1, 2, 3, 4, 5, 6, 7)\n"
     ]
    }
   ],
   "source": [
    "#Q1\n",
    "#i string\n",
    "a=\"Hello world!\"\n",
    "print(type(a))\n",
    "print(a)\n",
    "\n",
    "#ii list\n",
    "list=[\"Aditya\",\"pw \",1,3,5,6]\n",
    "print(type(list))\n",
    "print(list)\n",
    "#iii float\n",
    "f=123.455\n",
    "print(type(f))\n",
    "print(f)\n",
    "#iv tuple\n",
    "T=(1,2,3,4,5,6,7)\n",
    "print(type(T))\n",
    "print(T)\n"
   ]
  },
  {
   "cell_type": "code",
   "execution_count": null,
   "id": "2937e1f9-01d0-476e-b20d-1e89bfcaa940",
   "metadata": {},
   "outputs": [],
   "source": [
    "#Q2\n",
    "# (i) var1 = ' ' (empty string): The data type of var1 is a string.\n",
    "\n",
    "# (ii) var2 = '[ DS , ML , Python]' (string): The data type of var2 is a string.\n",
    "\n",
    "# (iii) var3 = ['DS', 'ML', 'Python'] (list): The data type of var3 is a list.\n",
    "\n",
    "# (iv) var4 = 1. (float): The data type of var4 is a float.\n"
   ]
  },
  {
   "cell_type": "code",
   "execution_count": 1,
   "id": "2c37a37e-8877-416e-990c-ed18e137d097",
   "metadata": {},
   "outputs": [
    {
     "name": "stdout",
     "output_type": "stream",
     "text": [
      "3.3333333333333335\n",
      "1\n",
      "3\n",
      "6\n"
     ]
    }
   ],
   "source": [
    "#Q 3\n",
    "#(i) /(division operator)\n",
    "#The division operator / is used to divide one number by another. It performs floating-point division, which means it returns the result as a floating-point number.\n",
    "a = 10\n",
    "b = 3\n",
    "result = a / b\n",
    "print(result)\n",
    "#In this example, '10' is divided by '3', and the result is '3.3333333333333335'.\n",
    "#(ii) %(Modulo Operator):\n",
    "'''The modulo operator '%'is used to find the remainder whe one number is devided by another .\n",
    "It returns the remainder as the result'''\n",
    "a=10\n",
    "b=3\n",
    "result=a%b\n",
    "print(result)\n",
    "#In this example ,'10',is divided by '3',and the remainder is 1.\n",
    "#(iii) // (Floor Division)\n",
    "'''The floor division opetor '//' is used to perform integer division ,which returns the largest integer less than or equal to the division result.'''\n",
    "a=10\n",
    "b=3\n",
    "result=a//b\n",
    "print(result)\n",
    "#In this example '10' is divisible by '3', and the result is '3',as it returns the largest integer less than or equal to the division result.\n",
    "#iv ** (Exponentiation Operator):\n",
    "'''The exponentiation operator ** is used to raise a number to the power of another number. It calculates the exponentiation result.'''\n",
    "a=2\n",
    "b=3\n",
    "result=a*b\n",
    "print(result)\n",
    "# in this example ,'2' is raised to the power of '3',and the result is '8'\n"
   ]
  },
  {
   "cell_type": "code",
   "execution_count": 13,
   "id": "2bfafefb-d11a-46bf-aa78-14e9d23facc8",
   "metadata": {},
   "outputs": [
    {
     "name": "stdout",
     "output_type": "stream",
     "text": [
      "1 <class 'int'>\n",
      "Datascience <class 'str'>\n",
      "[1, 2, 3] <class 'list'>\n",
      "{'PW', 5, 'Aditya'} <class 'set'>\n",
      "(4, 5, 6) <class 'tuple'>\n",
      "None <class 'NoneType'>\n",
      "False <class 'bool'>\n",
      "10.5 <class 'float'>\n"
     ]
    }
   ],
   "source": [
    "#Q4\n",
    "my_list = [1, \"Datascience\", [1, 2, 3], {\"Aditya\", \"PW\",5}, (4, 5, 6), None, False, 10.5]\n",
    "\n",
    "for element in my_list:\n",
    "    print(element, type(element))\n"
   ]
  },
  {
   "cell_type": "code",
   "execution_count": 15,
   "id": "d4719405-f1f9-4052-a797-b3355c07a9c1",
   "metadata": {},
   "outputs": [
    {
     "name": "stdout",
     "output_type": "stream",
     "text": [
      "6.0 is divisible by 20 and can be divided 1 times.\n"
     ]
    }
   ],
   "source": [
    "#Q 5\n",
    "A = 120\n",
    "B = 20\n",
    "count = 0\n",
    "\n",
    "while A % B == 0:\n",
    "    A /= B\n",
    "    count += 1\n",
    "\n",
    "if count > 0:\n",
    "    print(f\"{A} is divisible by {B} and can be divided {count} times.\")\n",
    "else:\n",
    "    print(f\"{A} is not divisible by {B}.\")\n",
    "    \n"
   ]
  },
  {
   "cell_type": "code",
   "execution_count": 16,
   "id": "72faa85d-5d10-4e54-b9f9-d540930db274",
   "metadata": {},
   "outputs": [
    {
     "name": "stdout",
     "output_type": "stream",
     "text": [
      "1 is not divisible by 3\n",
      "2 is not divisible by 3\n",
      "3 is divisible by 3\n",
      "4 is not divisible by 3\n",
      "5 is not divisible by 3\n",
      "6 is divisible by 3\n",
      "7 is not divisible by 3\n",
      "8 is not divisible by 3\n",
      "9 is divisible by 3\n",
      "10 is not divisible by 3\n",
      "11 is not divisible by 3\n",
      "12 is divisible by 3\n",
      "13 is not divisible by 3\n",
      "14 is not divisible by 3\n",
      "15 is divisible by 3\n",
      "16 is not divisible by 3\n",
      "17 is not divisible by 3\n",
      "18 is divisible by 3\n",
      "19 is not divisible by 3\n",
      "20 is not divisible by 3\n",
      "21 is divisible by 3\n",
      "22 is not divisible by 3\n",
      "23 is not divisible by 3\n",
      "24 is divisible by 3\n",
      "25 is not divisible by 3\n"
     ]
    }
   ],
   "source": [
    "#Q6\n",
    "list=[1,2,3,4,5,6,7,8,9,10,11,12,13,14,15,16,17,18,19,20,21,22,23,24,25]\n",
    "for i in list:\n",
    "    if i%3==0:\n",
    "        print(i,\"is divisible by 3\")\n",
    "    else:\n",
    "              print(i,\"is not divisible by 3\")"
   ]
  },
  {
   "cell_type": "code",
   "execution_count": 27,
   "id": "86f00b25-d983-4e7e-b443-2499ecba65b0",
   "metadata": {},
   "outputs": [
    {
     "name": "stdout",
     "output_type": "stream",
     "text": [
      "[1, 'mutable', 4, 5, 6]\n"
     ]
    },
    {
     "ename": "TypeError",
     "evalue": "'str' object does not support item assignment",
     "output_type": "error",
     "traceback": [
      "\u001b[0;31m---------------------------------------------------------------------------\u001b[0m",
      "\u001b[0;31mTypeError\u001b[0m                                 Traceback (most recent call last)",
      "Cell \u001b[0;32mIn[27], line 9\u001b[0m\n\u001b[1;32m      7\u001b[0m \u001b[38;5;66;03m#otherwise if the variable value is not chagable is called imutable \u001b[39;00m\n\u001b[1;32m      8\u001b[0m \u001b[38;5;28mstr\u001b[39m\u001b[38;5;241m=\u001b[39m\u001b[38;5;124m\"\u001b[39m\u001b[38;5;124mI love this Data science course \u001b[39m\u001b[38;5;124m\"\u001b[39m\n\u001b[0;32m----> 9\u001b[0m \u001b[38;5;28;43mstr\u001b[39;49m\u001b[43m[\u001b[49m\u001b[38;5;241;43m4\u001b[39;49m\u001b[43m]\u001b[49m\u001b[38;5;241m=\u001b[39m\u001b[38;5;124m\"\u001b[39m\u001b[38;5;124me\u001b[39m\u001b[38;5;124m\"\u001b[39m\n\u001b[1;32m     10\u001b[0m \u001b[38;5;28mprint\u001b[39m(\u001b[38;5;28mstr\u001b[39m)\n",
      "\u001b[0;31mTypeError\u001b[0m: 'str' object does not support item assignment"
     ]
    }
   ],
   "source": [
    "#Q7\n",
    " # If the value of variable is changeable it is mutable object \n",
    "#for example \n",
    "list=[1,2,4,5,6]\n",
    "list[1]=\"mutable\"\n",
    "print(list)\n",
    "#otherwise if the variable value is not chagable is called imutable \n",
    "str=\"I love this Data science course \"\n",
    "str[4]=\"e\"#it is throwing error \n",
    "print(str)\n",
    "\n",
    "     \n"
   ]
  },
  {
   "cell_type": "code",
   "execution_count": null,
   "id": "c14ac71c-c00c-4d80-ad7f-50944b9f2ab8",
   "metadata": {},
   "outputs": [],
   "source": []
  },
  {
   "cell_type": "code",
   "execution_count": null,
   "id": "207255cf-c117-4d98-81b0-45ece20d3a26",
   "metadata": {},
   "outputs": [],
   "source": []
  }
 ],
 "metadata": {
  "kernelspec": {
   "display_name": "Python 3 (ipykernel)",
   "language": "python",
   "name": "python3"
  },
  "language_info": {
   "codemirror_mode": {
    "name": "ipython",
    "version": 3
   },
   "file_extension": ".py",
   "mimetype": "text/x-python",
   "name": "python",
   "nbconvert_exporter": "python",
   "pygments_lexer": "ipython3",
   "version": "3.10.8"
  }
 },
 "nbformat": 4,
 "nbformat_minor": 5
}
